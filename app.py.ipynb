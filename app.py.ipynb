{
 "cells": [
  {
   "cell_type": "code",
   "execution_count": 1,
   "id": "385d1ff9",
   "metadata": {},
   "outputs": [
    {
     "name": "stdout",
     "output_type": "stream",
     "text": [
      " * Serving Flask app \"__main__\" (lazy loading)\n",
      " * Environment: production\n",
      "\u001b[31m   WARNING: This is a development server. Do not use it in a production deployment.\u001b[0m\n",
      "\u001b[2m   Use a production WSGI server instead.\u001b[0m\n",
      " * Debug mode: on\n"
     ]
    },
    {
     "name": "stderr",
     "output_type": "stream",
     "text": [
      " * Restarting with watchdog (windowsapi)\n"
     ]
    },
    {
     "ename": "SystemExit",
     "evalue": "1",
     "output_type": "error",
     "traceback": [
      "An exception has occurred, use %tb to see the full traceback.\n",
      "\u001b[1;31mSystemExit\u001b[0m\u001b[1;31m:\u001b[0m 1\n"
     ]
    },
    {
     "name": "stderr",
     "output_type": "stream",
     "text": [
      "C:\\Users\\gpiva\\anaconda3\\lib\\site-packages\\IPython\\core\\interactiveshell.py:3377: UserWarning: To exit: use 'exit', 'quit', or Ctrl-D.\n",
      "  warn(\"To exit: use 'exit', 'quit', or Ctrl-D.\", stacklevel=1)\n"
     ]
    }
   ],
   "source": [
    "from flask import Flask, render_template, request\n",
    "import csv\n",
    "\n",
    "app = Flask(__name__)\n",
    "\n",
    "@app.route('/')\n",
    "def index():\n",
    "    return render_template('newMainPage.html')\n",
    "\n",
    "@app.route('/compare', methods=['POST'])\n",
    "def compare():\n",
    "    player1 = request.form['player1']\n",
    "    player2 = request.form['player2']\n",
    "\n",
    "    # Read player information from CSV file\n",
    "    with open('predictions_switch.csv', 'r') as f:\n",
    "        reader = csv.DictReader(f)\n",
    "        for row in reader:\n",
    "            if row['player_name'] == player1:\n",
    "                player1_info = row\n",
    "            elif row['player_name'] == player2:\n",
    "                player2_info = row\n",
    "\n",
    "    # Prepare player information for display\n",
    "    player1_name = player1_info['player_name']\n",
    "    # player1_image = player1_info['Image']\n",
    "    player1_stats = {\n",
    "        'Passing Yards': player1_info['passing_yards'],\n",
    "        # 'Rushing Yards': player1_info['Rushing Yards'],\n",
    "        # 'Receiving Yards': player1_info['Receiving Yards'],\n",
    "        'Fantasy Points': player1_info['F_points']\n",
    "        # Add more stats as needed\n",
    "    }\n",
    "\n",
    "    player2_name = player2_info['player_name']\n",
    "    # player2_image = player2_info['Image']\n",
    "    player2_stats = {\n",
    "        'Passing Yards': player2_info['passing_yards'],\n",
    "        # 'Rushing Yards': player2_info['Rushing Yards'],\n",
    "        # 'Receiving Yards': player2_info['Receiving Yards'],\n",
    "        'Fantasy Points': player2_info['F_points']\n",
    "\n",
    "        # Add more stats as needed\n",
    "    }\n",
    "\n",
    "    # Render the results template with player information\n",
    "    return render_template('results.html', \n",
    "        player1_name=player1_name, player1_image=player1_image, player1_stats=player1_stats,\n",
    "        player2_name=player2_name, player2_image=player2_image, player2_stats=player2_stats)\n",
    "\n",
    "if __name__ == '__main__':\n",
    "    app.run(debug=True)\n"
   ]
  },
  {
   "cell_type": "code",
   "execution_count": null,
   "id": "0ed137af",
   "metadata": {},
   "outputs": [],
   "source": []
  }
 ],
 "metadata": {
  "kernelspec": {
   "display_name": "Python 3 (ipykernel)",
   "language": "python",
   "name": "python3"
  },
  "language_info": {
   "codemirror_mode": {
    "name": "ipython",
    "version": 3
   },
   "file_extension": ".py",
   "mimetype": "text/x-python",
   "name": "python",
   "nbconvert_exporter": "python",
   "pygments_lexer": "ipython3",
   "version": "3.9.12"
  }
 },
 "nbformat": 4,
 "nbformat_minor": 5
}
