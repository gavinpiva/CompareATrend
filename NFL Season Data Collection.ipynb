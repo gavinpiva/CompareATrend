{
 "cells": [
  {
   "cell_type": "code",
   "execution_count": 2,
   "id": "85193da3",
   "metadata": {},
   "outputs": [],
   "source": [
    "import nfl_data_py as nfl\n"
   ]
  },
  {
   "cell_type": "code",
   "execution_count": null,
   "id": "04cdbf0c",
   "metadata": {},
   "outputs": [],
   "source": []
  },
  {
   "cell_type": "code",
   "execution_count": null,
   "id": "d2e9fbe5",
   "metadata": {},
   "outputs": [],
   "source": []
  },
  {
   "cell_type": "code",
   "execution_count": null,
   "id": "87777165",
   "metadata": {},
   "outputs": [],
   "source": []
  },
  {
   "cell_type": "code",
   "execution_count": 1,
   "id": "ecda74bc",
   "metadata": {},
   "outputs": [
    {
     "ename": "NameError",
     "evalue": "name 'nfl' is not defined",
     "output_type": "error",
     "traceback": [
      "\u001b[1;31m---------------------------------------------------------------------------\u001b[0m",
      "\u001b[1;31mNameError\u001b[0m                                 Traceback (most recent call last)",
      "Input \u001b[1;32mIn [1]\u001b[0m, in \u001b[0;36m<cell line: 2>\u001b[1;34m()\u001b[0m\n\u001b[0;32m      1\u001b[0m \u001b[38;5;28;01mimport\u001b[39;00m \u001b[38;5;21;01mnumpy\u001b[39;00m \u001b[38;5;28;01mas\u001b[39;00m \u001b[38;5;21;01mnp\u001b[39;00m\n\u001b[1;32m----> 2\u001b[0m df_all_years \u001b[38;5;241m=\u001b[39m \u001b[43mnfl\u001b[49m\u001b[38;5;241m.\u001b[39mimport_pbp_data([\u001b[38;5;241m2022\u001b[39m])\n\u001b[0;32m      3\u001b[0m df_players \u001b[38;5;241m=\u001b[39m nfl\u001b[38;5;241m.\u001b[39mimport_rosters([\u001b[38;5;241m2022\u001b[39m])\n\u001b[0;32m      4\u001b[0m df_teams \u001b[38;5;241m=\u001b[39m nfl\u001b[38;5;241m.\u001b[39mimport_team_desc()\n",
      "\u001b[1;31mNameError\u001b[0m: name 'nfl' is not defined"
     ]
    }
   ],
   "source": [
    "import nfl_data_py as nfl\n",
    "import numpy as np\n",
    "df_all_years = nfl.import_pbp_data([2022])\n",
    "df_players = nfl.import_rosters([2022])\n",
    "df_teams = nfl.import_team_desc()\n",
    "\n",
    "# Filter for regular season, non-two point attempts, and passing plays\n",
    "df_all_years = df_all_years[df_all_years[\"season_type\"] == \"REG\"]\n",
    "df_all_years = df_all_years[df_all_years[\"two_point_attempt\"] == False]\n",
    "\n",
    "df_all_years = df_all_years[df_all_years[\"play_type\"] == \"pass\"]\n",
    "\n",
    "# Merge player names and team colors\n",
    "qb_rushing_df = df_all_years.merge(df_players[[\"player_id\", \"player_name\"]], \n",
    "                                   left_on=\"rusher_player_id\", right_on=\"player_id\")\n",
    "df_all_years = df_all_years.merge(df_players[[\"player_id\", \"player_name\"]], \n",
    "                                  left_on=\"passer_player_id\", right_on=\"player_id\")\n",
    "\n",
    "df_all_years = df_all_years.merge(df_teams[[\"team_abbr\", \"team_color\"]], \n",
    "                                  left_on=\"posteam\", right_on=\"team_abbr\", \n",
    "                                  suffixes=(\"_home\", \"_away\"))\n",
    "# df_all_years = df_all_years.merge(qb_rushing_df)\n",
    "\n",
    "# Create new \"location\" column based on home/away team\n",
    "df_all_years[\"location\"] = df_all_years.apply(lambda x: \"home\" if x[\"posteam\"] == x[\"home_team\"] else \"away\", \n",
    "                                               axis=1)\n",
    "# Group by player, week, result, and location\n",
    "agg = df_all_years.groupby([\"player_name\", \"week\", \"result\", \"location\"], as_index=False).agg({\n",
    "    \"pass_touchdown\": \"sum\", \n",
    "    \"passing_yards\": \"sum\", \n",
    "    \"sack\": \"sum\", \n",
    "    \"interception\": \"sum\",\n",
    "})\n",
    "\n",
    "\n",
    "def get_win_loss(result, location):\n",
    "    score_diff = result\n",
    "    if location == \"away\":\n",
    "        score_diff = -score_diff\n",
    "    if score_diff == 0:\n",
    "        return \"T\"\n",
    "    if score_diff > 0:\n",
    "        return \"W\"\n",
    "    else:\n",
    "        return \"L\"\n",
    "agg[\"Year\"] = 2022\n",
    "agg[\"win_loss\"] = agg.apply(lambda x: get_win_loss(x[\"result\"], x[\"location\"]), axis=1)\n",
    "\n",
    "agg = agg.dropna()\n",
    "agg.to_csv(\"QB_data_results_2022\", index= False)\n",
    "print(agg)\n",
    "\n",
    "\n"
   ]
  },
  {
   "cell_type": "code",
   "execution_count": 21,
   "id": "77a1a0d8",
   "metadata": {},
   "outputs": [
    {
     "data": {
      "text/plain": [
       "array([-15,  -1,   8,   5,  21,  -4,  23, -17,  -7,  -5,   3,   7,  -3,\n",
       "       -16,  17, -11,   2,   4, -14,  10,   1,  -2,  11, -21,  34,  35,\n",
       "       -22,  12,  -8,  15, -12,  14,  37,  16, -10,  18,  13,  -6,   6,\n",
       "       -23,  19,  22, -13,  20,   9, -37,  24,  -9,   0,  28, -28,  26,\n",
       "       -18,  25, -19,  29, -26,  31])"
      ]
     },
     "execution_count": 21,
     "metadata": {},
     "output_type": "execute_result"
    }
   ],
   "source": [
    "df_all_years[\"result\"].unique()"
   ]
  },
  {
   "cell_type": "code",
   "execution_count": 23,
   "id": "8a15154c",
   "metadata": {},
   "outputs": [
    {
     "data": {
      "text/plain": [
       "array(['home', 'away'], dtype=object)"
      ]
     },
     "execution_count": 23,
     "metadata": {},
     "output_type": "execute_result"
    }
   ],
   "source": [
    "df_all_years[\"location\"].unique()\n"
   ]
  },
  {
   "cell_type": "code",
   "execution_count": 31,
   "id": "fd901fe0",
   "metadata": {},
   "outputs": [
    {
     "name": "stdout",
     "output_type": "stream",
     "text": [
      "2016 done.\n",
      "Downcasting floats.\n"
     ]
    },
    {
     "ename": "KeyError",
     "evalue": "'player_name'",
     "output_type": "error",
     "traceback": [
      "\u001b[1;31m---------------------------------------------------------------------------\u001b[0m",
      "\u001b[1;31mKeyError\u001b[0m                                  Traceback (most recent call last)",
      "File \u001b[1;32m~\\anaconda3\\lib\\site-packages\\pandas\\core\\indexes\\base.py:3802\u001b[0m, in \u001b[0;36mIndex.get_loc\u001b[1;34m(self, key, method, tolerance)\u001b[0m\n\u001b[0;32m   3801\u001b[0m \u001b[38;5;28;01mtry\u001b[39;00m:\n\u001b[1;32m-> 3802\u001b[0m     \u001b[38;5;28;01mreturn\u001b[39;00m \u001b[38;5;28;43mself\u001b[39;49m\u001b[38;5;241;43m.\u001b[39;49m\u001b[43m_engine\u001b[49m\u001b[38;5;241;43m.\u001b[39;49m\u001b[43mget_loc\u001b[49m\u001b[43m(\u001b[49m\u001b[43mcasted_key\u001b[49m\u001b[43m)\u001b[49m\n\u001b[0;32m   3803\u001b[0m \u001b[38;5;28;01mexcept\u001b[39;00m \u001b[38;5;167;01mKeyError\u001b[39;00m \u001b[38;5;28;01mas\u001b[39;00m err:\n",
      "File \u001b[1;32m~\\anaconda3\\lib\\site-packages\\pandas\\_libs\\index.pyx:138\u001b[0m, in \u001b[0;36mpandas._libs.index.IndexEngine.get_loc\u001b[1;34m()\u001b[0m\n",
      "File \u001b[1;32m~\\anaconda3\\lib\\site-packages\\pandas\\_libs\\index.pyx:165\u001b[0m, in \u001b[0;36mpandas._libs.index.IndexEngine.get_loc\u001b[1;34m()\u001b[0m\n",
      "File \u001b[1;32mpandas\\_libs\\hashtable_class_helper.pxi:5745\u001b[0m, in \u001b[0;36mpandas._libs.hashtable.PyObjectHashTable.get_item\u001b[1;34m()\u001b[0m\n",
      "File \u001b[1;32mpandas\\_libs\\hashtable_class_helper.pxi:5753\u001b[0m, in \u001b[0;36mpandas._libs.hashtable.PyObjectHashTable.get_item\u001b[1;34m()\u001b[0m\n",
      "\u001b[1;31mKeyError\u001b[0m: 'player_name'",
      "\nThe above exception was the direct cause of the following exception:\n",
      "\u001b[1;31mKeyError\u001b[0m                                  Traceback (most recent call last)",
      "Input \u001b[1;32mIn [31]\u001b[0m, in \u001b[0;36m<cell line: 22>\u001b[1;34m()\u001b[0m\n\u001b[0;32m     18\u001b[0m agg \u001b[38;5;241m=\u001b[39m (\n\u001b[0;32m     19\u001b[0m     df_all_years\u001b[38;5;241m.\u001b[39mgroupby([\u001b[38;5;124m\"\u001b[39m\u001b[38;5;124mfantasy_player_name\u001b[39m\u001b[38;5;124m\"\u001b[39m, \u001b[38;5;124m\"\u001b[39m\u001b[38;5;124mteam_abbr\u001b[39m\u001b[38;5;124m\"\u001b[39m, \u001b[38;5;124m\"\u001b[39m\u001b[38;5;124mteam_color\u001b[39m\u001b[38;5;124m\"\u001b[39m, \u001b[38;5;124m\"\u001b[39m\u001b[38;5;124mweek\u001b[39m\u001b[38;5;124m\"\u001b[39m], as_index\u001b[38;5;241m=\u001b[39m\u001b[38;5;28;01mFalse\u001b[39;00m)\u001b[38;5;241m.\u001b[39magg({\u001b[38;5;124m\"\u001b[39m\u001b[38;5;124mcomplete_pass\u001b[39m\u001b[38;5;124m\"\u001b[39m:\u001b[38;5;124m\"\u001b[39m\u001b[38;5;124msum\u001b[39m\u001b[38;5;124m\"\u001b[39m, \u001b[38;5;124m\"\u001b[39m\u001b[38;5;124mreceiving_yards\u001b[39m\u001b[38;5;124m\"\u001b[39m: \u001b[38;5;124m\"\u001b[39m\u001b[38;5;124msum\u001b[39m\u001b[38;5;124m\"\u001b[39m, \u001b[38;5;124m\"\u001b[39m\u001b[38;5;124mtouchdown\u001b[39m\u001b[38;5;124m\"\u001b[39m: \u001b[38;5;124m\"\u001b[39m\u001b[38;5;124msum\u001b[39m\u001b[38;5;124m\"\u001b[39m, \u001b[38;5;124m\"\u001b[39m\u001b[38;5;124mfumble\u001b[39m\u001b[38;5;124m\"\u001b[39m : \u001b[38;5;124m\"\u001b[39m\u001b[38;5;124msum\u001b[39m\u001b[38;5;124m\"\u001b[39m})\n\u001b[0;32m     20\u001b[0m )\n\u001b[0;32m     21\u001b[0m agg\u001b[38;5;241m.\u001b[39mto_csv(\u001b[38;5;124m\"\u001b[39m\u001b[38;5;124m2016_ff_data_wTD\u001b[39m\u001b[38;5;124m\"\u001b[39m, index\u001b[38;5;241m=\u001b[39m \u001b[38;5;28;01mFalse\u001b[39;00m)\n\u001b[1;32m---> 22\u001b[0m \u001b[38;5;28mprint\u001b[39m(agg[\u001b[43magg\u001b[49m\u001b[43m[\u001b[49m\u001b[38;5;124;43m\"\u001b[39;49m\u001b[38;5;124;43mplayer_name\u001b[39;49m\u001b[38;5;124;43m\"\u001b[39;49m\u001b[43m]\u001b[49m \u001b[38;5;241m==\u001b[39m \u001b[38;5;124m\"\u001b[39m\u001b[38;5;124mStefon Diggs\u001b[39m\u001b[38;5;124m\"\u001b[39m])\n",
      "File \u001b[1;32m~\\anaconda3\\lib\\site-packages\\pandas\\core\\frame.py:3807\u001b[0m, in \u001b[0;36mDataFrame.__getitem__\u001b[1;34m(self, key)\u001b[0m\n\u001b[0;32m   3805\u001b[0m \u001b[38;5;28;01mif\u001b[39;00m \u001b[38;5;28mself\u001b[39m\u001b[38;5;241m.\u001b[39mcolumns\u001b[38;5;241m.\u001b[39mnlevels \u001b[38;5;241m>\u001b[39m \u001b[38;5;241m1\u001b[39m:\n\u001b[0;32m   3806\u001b[0m     \u001b[38;5;28;01mreturn\u001b[39;00m \u001b[38;5;28mself\u001b[39m\u001b[38;5;241m.\u001b[39m_getitem_multilevel(key)\n\u001b[1;32m-> 3807\u001b[0m indexer \u001b[38;5;241m=\u001b[39m \u001b[38;5;28;43mself\u001b[39;49m\u001b[38;5;241;43m.\u001b[39;49m\u001b[43mcolumns\u001b[49m\u001b[38;5;241;43m.\u001b[39;49m\u001b[43mget_loc\u001b[49m\u001b[43m(\u001b[49m\u001b[43mkey\u001b[49m\u001b[43m)\u001b[49m\n\u001b[0;32m   3808\u001b[0m \u001b[38;5;28;01mif\u001b[39;00m is_integer(indexer):\n\u001b[0;32m   3809\u001b[0m     indexer \u001b[38;5;241m=\u001b[39m [indexer]\n",
      "File \u001b[1;32m~\\anaconda3\\lib\\site-packages\\pandas\\core\\indexes\\base.py:3804\u001b[0m, in \u001b[0;36mIndex.get_loc\u001b[1;34m(self, key, method, tolerance)\u001b[0m\n\u001b[0;32m   3802\u001b[0m     \u001b[38;5;28;01mreturn\u001b[39;00m \u001b[38;5;28mself\u001b[39m\u001b[38;5;241m.\u001b[39m_engine\u001b[38;5;241m.\u001b[39mget_loc(casted_key)\n\u001b[0;32m   3803\u001b[0m \u001b[38;5;28;01mexcept\u001b[39;00m \u001b[38;5;167;01mKeyError\u001b[39;00m \u001b[38;5;28;01mas\u001b[39;00m err:\n\u001b[1;32m-> 3804\u001b[0m     \u001b[38;5;28;01mraise\u001b[39;00m \u001b[38;5;167;01mKeyError\u001b[39;00m(key) \u001b[38;5;28;01mfrom\u001b[39;00m \u001b[38;5;21;01merr\u001b[39;00m\n\u001b[0;32m   3805\u001b[0m \u001b[38;5;28;01mexcept\u001b[39;00m \u001b[38;5;167;01mTypeError\u001b[39;00m:\n\u001b[0;32m   3806\u001b[0m     \u001b[38;5;66;03m# If we have a listlike key, _check_indexing_error will raise\u001b[39;00m\n\u001b[0;32m   3807\u001b[0m     \u001b[38;5;66;03m#  InvalidIndexError. Otherwise we fall through and re-raise\u001b[39;00m\n\u001b[0;32m   3808\u001b[0m     \u001b[38;5;66;03m#  the TypeError.\u001b[39;00m\n\u001b[0;32m   3809\u001b[0m     \u001b[38;5;28mself\u001b[39m\u001b[38;5;241m.\u001b[39m_check_indexing_error(key)\n",
      "\u001b[1;31mKeyError\u001b[0m: 'player_name'"
     ]
    }
   ],
   "source": [
    "df_all_years = nfl.import_pbp_data(([2016]))\n",
    "\n",
    "df_players = nfl.import_rosters([2016])\n",
    "df_teams = nfl.import_team_desc()\n",
    "# df_fantasy_points\n",
    "\n",
    "df_all_years = df_all_years[df_all_years[\"season_type\"] == \"REG\"]\n",
    "\n",
    "df_all_years = df_all_years[df_all_years[\"two_point_attempt\"] == False]\n",
    "\n",
    "df_all_years = df_all_years[df_all_years[\"play_type\"] == \"pass\"]\n",
    "\n",
    "df_all_years = df_all_years.merge(df_players[[\"player_id\", \"player_name\"]], left_on=\"fantasy_player_id\",\n",
    "                        right_on=\"player_id\")\n",
    "# print(df_all_years[\"player_name\"].unique())\n",
    "df_all_years = df_all_years.merge(df_teams[[\"team_abbr\", \"team_color\"]], left_on=\"posteam\", right_on=\"team_abbr\")\n",
    "\n",
    "agg = (\n",
    "    df_all_years.groupby([\"fantasy_player_name\", \"team_abbr\", \"team_color\", \"week\"], as_index=False).agg({\"complete_pass\":\"sum\", \"receiving_yards\": \"sum\", \"touchdown\": \"sum\", \"fumble\" : \"sum\"})\n",
    ")\n",
    "agg.to_csv(\"2016_ff_data_wTD\", index= False)\n",
    "print(agg[agg[\"player_name\"] == \"Stefon Diggs\"])"
   ]
  },
  {
   "cell_type": "code",
   "execution_count": 1,
   "id": "2296a137",
   "metadata": {},
   "outputs": [
    {
     "ename": "NameError",
     "evalue": "name 'df_all_years' is not defined",
     "output_type": "error",
     "traceback": [
      "\u001b[1;31m---------------------------------------------------------------------------\u001b[0m",
      "\u001b[1;31mNameError\u001b[0m                                 Traceback (most recent call last)",
      "Input \u001b[1;32mIn [1]\u001b[0m, in \u001b[0;36m<cell line: 1>\u001b[1;34m()\u001b[0m\n\u001b[1;32m----> 1\u001b[0m df_all_yearsh \u001b[38;5;241m=\u001b[39m \u001b[43mdf_all_years\u001b[49m\u001b[38;5;241m.\u001b[39mmerge(df_players[[\u001b[38;5;124m\"\u001b[39m\u001b[38;5;124mplayer_id\u001b[39m\u001b[38;5;124m\"\u001b[39m, \u001b[38;5;124m\"\u001b[39m\u001b[38;5;124mplayer_name\u001b[39m\u001b[38;5;124m\"\u001b[39m]], left_on\u001b[38;5;241m=\u001b[39m\u001b[38;5;124m\"\u001b[39m\u001b[38;5;124mplayer_name\u001b[39m\u001b[38;5;124m\"\u001b[39m,\n\u001b[0;32m      2\u001b[0m                         right_on\u001b[38;5;241m=\u001b[39m\u001b[38;5;124m\"\u001b[39m\u001b[38;5;124mplayer_id\u001b[39m\u001b[38;5;124m\"\u001b[39m)\n",
      "\u001b[1;31mNameError\u001b[0m: name 'df_all_years' is not defined"
     ]
    }
   ],
   "source": [
    "df_all_yearsh = df_all_years.merge(df_players[[\"player_id\", \"player_name\"]], left_on=\"player_name\",\n",
    "                        right_on=\"player_id\")"
   ]
  },
  {
   "cell_type": "code",
   "execution_count": 23,
   "id": "652f44b8",
   "metadata": {},
   "outputs": [
    {
     "data": {
      "text/plain": [
       "array(['play_id', 'game_id', 'old_game_id', 'home_team', 'away_team',\n",
       "       'season_type', 'week', 'posteam', 'posteam_type', 'defteam',\n",
       "       'side_of_field', 'yardline_100', 'game_date',\n",
       "       'quarter_seconds_remaining', 'half_seconds_remaining',\n",
       "       'game_seconds_remaining', 'game_half', 'quarter_end', 'drive',\n",
       "       'sp', 'qtr', 'down', 'goal_to_go', 'time', 'yrdln', 'ydstogo',\n",
       "       'ydsnet', 'desc', 'play_type', 'yards_gained', 'shotgun',\n",
       "       'no_huddle', 'qb_dropback', 'qb_kneel', 'qb_spike', 'qb_scramble',\n",
       "       'pass_length', 'pass_location', 'air_yards', 'yards_after_catch',\n",
       "       'run_location', 'run_gap', 'field_goal_result', 'kick_distance',\n",
       "       'extra_point_result', 'two_point_conv_result',\n",
       "       'home_timeouts_remaining', 'away_timeouts_remaining', 'timeout',\n",
       "       'timeout_team', 'td_team', 'td_player_name', 'td_player_id',\n",
       "       'posteam_timeouts_remaining', 'defteam_timeouts_remaining',\n",
       "       'total_home_score', 'total_away_score', 'posteam_score',\n",
       "       'defteam_score', 'score_differential', 'posteam_score_post',\n",
       "       'defteam_score_post', 'score_differential_post', 'no_score_prob',\n",
       "       'opp_fg_prob', 'opp_safety_prob', 'opp_td_prob', 'fg_prob',\n",
       "       'safety_prob', 'td_prob', 'extra_point_prob',\n",
       "       'two_point_conversion_prob', 'ep', 'epa', 'total_home_epa',\n",
       "       'total_away_epa', 'total_home_rush_epa', 'total_away_rush_epa',\n",
       "       'total_home_pass_epa', 'total_away_pass_epa', 'air_epa', 'yac_epa',\n",
       "       'comp_air_epa', 'comp_yac_epa', 'total_home_comp_air_epa',\n",
       "       'total_away_comp_air_epa', 'total_home_comp_yac_epa',\n",
       "       'total_away_comp_yac_epa', 'total_home_raw_air_epa',\n",
       "       'total_away_raw_air_epa', 'total_home_raw_yac_epa',\n",
       "       'total_away_raw_yac_epa', 'wp', 'def_wp', 'home_wp', 'away_wp',\n",
       "       'wpa', 'vegas_wpa', 'vegas_home_wpa', 'home_wp_post',\n",
       "       'away_wp_post', 'vegas_wp', 'vegas_home_wp', 'total_home_rush_wpa',\n",
       "       'total_away_rush_wpa', 'total_home_pass_wpa',\n",
       "       'total_away_pass_wpa', 'air_wpa', 'yac_wpa', 'comp_air_wpa',\n",
       "       'comp_yac_wpa', 'total_home_comp_air_wpa',\n",
       "       'total_away_comp_air_wpa', 'total_home_comp_yac_wpa',\n",
       "       'total_away_comp_yac_wpa', 'total_home_raw_air_wpa',\n",
       "       'total_away_raw_air_wpa', 'total_home_raw_yac_wpa',\n",
       "       'total_away_raw_yac_wpa', 'punt_blocked', 'first_down_rush',\n",
       "       'first_down_pass', 'first_down_penalty', 'third_down_converted',\n",
       "       'third_down_failed', 'fourth_down_converted', 'fourth_down_failed',\n",
       "       'incomplete_pass', 'touchback', 'interception',\n",
       "       'punt_inside_twenty', 'punt_in_endzone', 'punt_out_of_bounds',\n",
       "       'punt_downed', 'punt_fair_catch', 'kickoff_inside_twenty',\n",
       "       'kickoff_in_endzone', 'kickoff_out_of_bounds', 'kickoff_downed',\n",
       "       'kickoff_fair_catch', 'fumble_forced', 'fumble_not_forced',\n",
       "       'fumble_out_of_bounds', 'solo_tackle', 'safety', 'penalty',\n",
       "       'tackled_for_loss', 'fumble_lost', 'own_kickoff_recovery',\n",
       "       'own_kickoff_recovery_td', 'qb_hit', 'rush_attempt',\n",
       "       'pass_attempt', 'sack', 'touchdown', 'pass_touchdown',\n",
       "       'rush_touchdown', 'return_touchdown', 'extra_point_attempt',\n",
       "       'two_point_attempt', 'field_goal_attempt', 'kickoff_attempt',\n",
       "       'punt_attempt', 'fumble', 'complete_pass', 'assist_tackle',\n",
       "       'lateral_reception', 'lateral_rush', 'lateral_return',\n",
       "       'lateral_recovery', 'passer_player_id', 'passer_player_name',\n",
       "       'passing_yards', 'receiver_player_id', 'receiver_player_name',\n",
       "       'receiving_yards', 'rusher_player_id', 'rusher_player_name',\n",
       "       'rushing_yards', 'lateral_receiver_player_id',\n",
       "       'lateral_receiver_player_name', 'lateral_receiving_yards',\n",
       "       'lateral_rusher_player_id', 'lateral_rusher_player_name',\n",
       "       'lateral_rushing_yards', 'lateral_sack_player_id',\n",
       "       'lateral_sack_player_name', 'interception_player_id',\n",
       "       'interception_player_name', 'lateral_interception_player_id',\n",
       "       'lateral_interception_player_name', 'punt_returner_player_id',\n",
       "       'punt_returner_player_name', 'lateral_punt_returner_player_id',\n",
       "       'lateral_punt_returner_player_name',\n",
       "       'kickoff_returner_player_name', 'kickoff_returner_player_id',\n",
       "       'lateral_kickoff_returner_player_id',\n",
       "       'lateral_kickoff_returner_player_name', 'punter_player_id',\n",
       "       'punter_player_name', 'kicker_player_name', 'kicker_player_id',\n",
       "       'own_kickoff_recovery_player_id',\n",
       "       'own_kickoff_recovery_player_name', 'blocked_player_id',\n",
       "       'blocked_player_name', 'tackle_for_loss_1_player_id',\n",
       "       'tackle_for_loss_1_player_name', 'tackle_for_loss_2_player_id',\n",
       "       'tackle_for_loss_2_player_name', 'qb_hit_1_player_id',\n",
       "       'qb_hit_1_player_name', 'qb_hit_2_player_id',\n",
       "       'qb_hit_2_player_name', 'forced_fumble_player_1_team',\n",
       "       'forced_fumble_player_1_player_id',\n",
       "       'forced_fumble_player_1_player_name',\n",
       "       'forced_fumble_player_2_team', 'forced_fumble_player_2_player_id',\n",
       "       'forced_fumble_player_2_player_name', 'solo_tackle_1_team',\n",
       "       'solo_tackle_2_team', 'solo_tackle_1_player_id',\n",
       "       'solo_tackle_2_player_id', 'solo_tackle_1_player_name',\n",
       "       'solo_tackle_2_player_name', 'assist_tackle_1_player_id',\n",
       "       'assist_tackle_1_player_name', 'assist_tackle_1_team',\n",
       "       'assist_tackle_2_player_id', 'assist_tackle_2_player_name',\n",
       "       'assist_tackle_2_team', 'assist_tackle_3_player_id',\n",
       "       'assist_tackle_3_player_name', 'assist_tackle_3_team',\n",
       "       'assist_tackle_4_player_id', 'assist_tackle_4_player_name',\n",
       "       'assist_tackle_4_team', 'tackle_with_assist',\n",
       "       'tackle_with_assist_1_player_id',\n",
       "       'tackle_with_assist_1_player_name', 'tackle_with_assist_1_team',\n",
       "       'tackle_with_assist_2_player_id',\n",
       "       'tackle_with_assist_2_player_name', 'tackle_with_assist_2_team',\n",
       "       'pass_defense_1_player_id', 'pass_defense_1_player_name',\n",
       "       'pass_defense_2_player_id', 'pass_defense_2_player_name',\n",
       "       'fumbled_1_team', 'fumbled_1_player_id', 'fumbled_1_player_name',\n",
       "       'fumbled_2_player_id', 'fumbled_2_player_name', 'fumbled_2_team',\n",
       "       'fumble_recovery_1_team', 'fumble_recovery_1_yards',\n",
       "       'fumble_recovery_1_player_id', 'fumble_recovery_1_player_name',\n",
       "       'fumble_recovery_2_team', 'fumble_recovery_2_yards',\n",
       "       'fumble_recovery_2_player_id', 'fumble_recovery_2_player_name',\n",
       "       'sack_player_id', 'sack_player_name', 'half_sack_1_player_id',\n",
       "       'half_sack_1_player_name', 'half_sack_2_player_id',\n",
       "       'half_sack_2_player_name', 'return_team', 'return_yards',\n",
       "       'penalty_team', 'penalty_player_id', 'penalty_player_name',\n",
       "       'penalty_yards', 'replay_or_challenge',\n",
       "       'replay_or_challenge_result', 'penalty_type',\n",
       "       'defensive_two_point_attempt', 'defensive_two_point_conv',\n",
       "       'defensive_extra_point_attempt', 'defensive_extra_point_conv',\n",
       "       'safety_player_name', 'safety_player_id', 'season', 'cp', 'cpoe',\n",
       "       'series', 'series_success', 'series_result', 'order_sequence',\n",
       "       'start_time', 'time_of_day', 'stadium', 'weather', 'nfl_api_id',\n",
       "       'play_clock', 'play_deleted', 'play_type_nfl',\n",
       "       'special_teams_play', 'st_play_type', 'end_clock_time',\n",
       "       'end_yard_line', 'fixed_drive', 'fixed_drive_result',\n",
       "       'drive_real_start_time', 'drive_play_count',\n",
       "       'drive_time_of_possession', 'drive_first_downs', 'drive_inside20',\n",
       "       'drive_ended_with_score', 'drive_quarter_start',\n",
       "       'drive_quarter_end', 'drive_yards_penalized',\n",
       "       'drive_start_transition', 'drive_end_transition',\n",
       "       'drive_game_clock_start', 'drive_game_clock_end',\n",
       "       'drive_start_yard_line', 'drive_end_yard_line',\n",
       "       'drive_play_id_started', 'drive_play_id_ended', 'away_score',\n",
       "       'home_score', 'location', 'result', 'total', 'spread_line',\n",
       "       'total_line', 'div_game', 'roof', 'surface', 'temp', 'wind',\n",
       "       'home_coach', 'away_coach', 'stadium_id', 'game_stadium',\n",
       "       'aborted_play', 'success', 'passer', 'passer_jersey_number',\n",
       "       'rusher', 'rusher_jersey_number', 'receiver',\n",
       "       'receiver_jersey_number', 'pass', 'rush', 'first_down', 'special',\n",
       "       'play', 'passer_id', 'rusher_id', 'receiver_id', 'name',\n",
       "       'jersey_number', 'id', 'fantasy_player_name', 'fantasy_player_id',\n",
       "       'fantasy', 'fantasy_id', 'out_of_bounds', 'home_opening_kickoff',\n",
       "       'qb_epa', 'xyac_epa', 'xyac_mean_yardage', 'xyac_median_yardage',\n",
       "       'xyac_success', 'xyac_fd', 'xpass', 'pass_oe', 'nflverse_game_id',\n",
       "       'possession_team', 'offense_formation', 'offense_personnel',\n",
       "       'defenders_in_box', 'defense_personnel', 'number_of_pass_rushers',\n",
       "       'players_on_play', 'offense_players', 'defense_players',\n",
       "       'n_offense', 'n_defense', 'player_id_x', 'player_name_x',\n",
       "       'team_abbr_x', 'team_color_x', 'team_abbr_y', 'team_color_y',\n",
       "       'player_id_y', 'player_name_y'], dtype=object)"
      ]
     },
     "execution_count": 23,
     "metadata": {},
     "output_type": "execute_result"
    }
   ],
   "source": [
    "df_all_yearsh.columns.values"
   ]
  },
  {
   "cell_type": "code",
   "execution_count": 9,
   "id": "e8399a2d",
   "metadata": {},
   "outputs": [
    {
     "name": "stdout",
     "output_type": "stream",
     "text": [
      "2022 done.\n",
      "Downcasting floats.\n",
      "      player_name  complete_pass  receiving_yards  touchdown  fumble\n",
      "435  Stefon Diggs          108.0           1429.0       11.0     1.0\n"
     ]
    }
   ],
   "source": [
    "df_all_years = nfl.import_pbp_data(([2022]))\n",
    "\n",
    "df_players = nfl.import_rosters([2022])\n",
    "df_teams = nfl.import_team_desc()\n",
    "# df_fantasy_points\n",
    "\n",
    "df_all_years = df_all_years[df_all_years[\"season_type\"] == \"REG\"]\n",
    "\n",
    "df_all_years = df_all_years[df_all_years[\"two_point_attempt\"] == False]\n",
    "\n",
    "df_all_years = df_all_years[df_all_years[\"play_type\"] == \"pass\"]\n",
    "\n",
    "df_all_years = df_all_years.merge(df_players[[\"player_id\", \"player_name\"]], left_on=\"receiver_player_id\",\n",
    "                        right_on=\"player_id\")\n",
    "# print(df_all_years[\"player_name\"].unique())\n",
    "\n",
    "agg = (\n",
    "    df_all_years.groupby([\"player_name\"], as_index=False).agg({\"complete_pass\":\"sum\", \"receiving_yards\": \"sum\", \"touchdown\": \"sum\", \"fumble\" : \"sum\"})\n",
    ")\n",
    "agg.to_csv(\"2022_WR_data.csv\", index= False)\n",
    "print(agg[agg[\"player_name\"] == \"Stefon Diggs\"])"
   ]
  },
  {
   "cell_type": "code",
   "execution_count": 16,
   "id": "7f92e19d",
   "metadata": {},
   "outputs": [
    {
     "name": "stdout",
     "output_type": "stream",
     "text": [
      "2022 done.\n",
      "Downcasting floats.\n",
      "    player_name  rushing_yards  touchdown  fumble\n",
      "156  James Cook          507.0        2.0     1.0\n"
     ]
    }
   ],
   "source": [
    "df_all_years = nfl.import_pbp_data(([2022]))\n",
    "\n",
    "df_players = nfl.import_rosters([2022])\n",
    "df_teams = nfl.import_team_desc()\n",
    "# df_fantasy_points\n",
    "\n",
    "df_all_years = df_all_years[df_all_years[\"season_type\"] == \"REG\"]\n",
    "\n",
    "df_all_years = df_all_years[df_all_years[\"two_point_attempt\"] == False]\n",
    "\n",
    "df_all_years = df_all_years[df_all_years[\"play_type\"] == \"run\"]\n",
    "\n",
    "df_all_years = df_all_years.merge(df_players[[\"player_id\", \"player_name\"]], left_on=\"rusher_player_id\",\n",
    "                        right_on=\"player_id\")\n",
    "# print(df_all_years[\"player_name\"].unique())\n",
    "\n",
    "agg = (\n",
    "    df_all_years.groupby([\"player_name\"], as_index=False).agg({\"rushing_yards\": \"sum\", \"touchdown\": \"sum\", \"fumble\": \"sum\"})\n",
    ")\n",
    "agg.to_csv(\"2022_RB_data.csv\", index= False)\n",
    "print(agg[agg[\"player_name\"] == \"James Cook\"])"
   ]
  },
  {
   "cell_type": "code",
   "execution_count": 71,
   "id": "b1ae8997",
   "metadata": {},
   "outputs": [
    {
     "name": "stdout",
     "output_type": "stream",
     "text": [
      "2022 done.\n",
      "Downcasting floats.\n"
     ]
    },
    {
     "ename": "KeyError",
     "evalue": "'team_id'",
     "output_type": "error",
     "traceback": [
      "\u001b[1;31m---------------------------------------------------------------------------\u001b[0m",
      "\u001b[1;31mKeyError\u001b[0m                                  Traceback (most recent call last)",
      "Input \u001b[1;32mIn [71]\u001b[0m, in \u001b[0;36m<cell line: 13>\u001b[1;34m()\u001b[0m\n\u001b[0;32m      9\u001b[0m df_all_years \u001b[38;5;241m=\u001b[39m df_all_years[df_all_years[\u001b[38;5;124m\"\u001b[39m\u001b[38;5;124mtwo_point_attempt\u001b[39m\u001b[38;5;124m\"\u001b[39m] \u001b[38;5;241m==\u001b[39m \u001b[38;5;28;01mFalse\u001b[39;00m]\n\u001b[0;32m     11\u001b[0m df_all_years \u001b[38;5;241m=\u001b[39m df_all_years[df_all_years[\u001b[38;5;124m\"\u001b[39m\u001b[38;5;124mplay_type\u001b[39m\u001b[38;5;124m\"\u001b[39m] \u001b[38;5;241m==\u001b[39m \u001b[38;5;124m\"\u001b[39m\u001b[38;5;124mdefence\u001b[39m\u001b[38;5;124m\"\u001b[39m]\n\u001b[1;32m---> 13\u001b[0m df_all_years \u001b[38;5;241m=\u001b[39m \u001b[43mdf_all_years\u001b[49m\u001b[38;5;241;43m.\u001b[39;49m\u001b[43mmerge\u001b[49m\u001b[43m(\u001b[49m\u001b[43mdf_teams\u001b[49m\u001b[43m[\u001b[49m\u001b[43m[\u001b[49m\u001b[38;5;124;43m\"\u001b[39;49m\u001b[38;5;124;43mteam_id\u001b[39;49m\u001b[38;5;124;43m\"\u001b[39;49m\u001b[43m,\u001b[49m\u001b[43m \u001b[49m\u001b[38;5;124;43m\"\u001b[39;49m\u001b[38;5;124;43mteam_name\u001b[39;49m\u001b[38;5;124;43m\"\u001b[39;49m\u001b[43m]\u001b[49m\u001b[43m]\u001b[49m\u001b[43m,\u001b[49m\u001b[43m \u001b[49m\u001b[43mleft_on\u001b[49m\u001b[38;5;241;43m=\u001b[39;49m\u001b[38;5;124;43m\"\u001b[39;49m\u001b[38;5;124;43mteam_id\u001b[39;49m\u001b[38;5;124;43m\"\u001b[39;49m\u001b[43m,\u001b[49m\n\u001b[0;32m     14\u001b[0m \u001b[43m                        \u001b[49m\u001b[43mright_on\u001b[49m\u001b[38;5;241;43m=\u001b[39;49m\u001b[38;5;124;43m\"\u001b[39;49m\u001b[38;5;124;43mteam_id\u001b[39;49m\u001b[38;5;124;43m\"\u001b[39;49m\u001b[43m)\u001b[49m\n\u001b[0;32m     15\u001b[0m \u001b[38;5;66;03m# print(df_all_years[\"player_name\"].unique())\u001b[39;00m\n\u001b[0;32m     16\u001b[0m df_all_years \u001b[38;5;241m=\u001b[39m df_all_years\u001b[38;5;241m.\u001b[39mmerge(df_teams[[\u001b[38;5;124m\"\u001b[39m\u001b[38;5;124mteam_abbr\u001b[39m\u001b[38;5;124m\"\u001b[39m, \u001b[38;5;124m\"\u001b[39m\u001b[38;5;124mteam_color\u001b[39m\u001b[38;5;124m\"\u001b[39m]], left_on\u001b[38;5;241m=\u001b[39m\u001b[38;5;124m\"\u001b[39m\u001b[38;5;124mposteam\u001b[39m\u001b[38;5;124m\"\u001b[39m, right_on\u001b[38;5;241m=\u001b[39m\u001b[38;5;124m\"\u001b[39m\u001b[38;5;124mteam_abbr\u001b[39m\u001b[38;5;124m\"\u001b[39m)\n",
      "File \u001b[1;32m~\\anaconda3\\lib\\site-packages\\pandas\\core\\frame.py:10093\u001b[0m, in \u001b[0;36mDataFrame.merge\u001b[1;34m(self, right, how, on, left_on, right_on, left_index, right_index, sort, suffixes, copy, indicator, validate)\u001b[0m\n\u001b[0;32m  10074\u001b[0m \u001b[38;5;129m@Substitution\u001b[39m(\u001b[38;5;124m\"\u001b[39m\u001b[38;5;124m\"\u001b[39m)\n\u001b[0;32m  10075\u001b[0m \u001b[38;5;129m@Appender\u001b[39m(_merge_doc, indents\u001b[38;5;241m=\u001b[39m\u001b[38;5;241m2\u001b[39m)\n\u001b[0;32m  10076\u001b[0m \u001b[38;5;28;01mdef\u001b[39;00m \u001b[38;5;21mmerge\u001b[39m(\n\u001b[1;32m   (...)\u001b[0m\n\u001b[0;32m  10089\u001b[0m     validate: \u001b[38;5;28mstr\u001b[39m \u001b[38;5;241m|\u001b[39m \u001b[38;5;28;01mNone\u001b[39;00m \u001b[38;5;241m=\u001b[39m \u001b[38;5;28;01mNone\u001b[39;00m,\n\u001b[0;32m  10090\u001b[0m ) \u001b[38;5;241m-\u001b[39m\u001b[38;5;241m>\u001b[39m DataFrame:\n\u001b[0;32m  10091\u001b[0m     \u001b[38;5;28;01mfrom\u001b[39;00m \u001b[38;5;21;01mpandas\u001b[39;00m\u001b[38;5;21;01m.\u001b[39;00m\u001b[38;5;21;01mcore\u001b[39;00m\u001b[38;5;21;01m.\u001b[39;00m\u001b[38;5;21;01mreshape\u001b[39;00m\u001b[38;5;21;01m.\u001b[39;00m\u001b[38;5;21;01mmerge\u001b[39;00m \u001b[38;5;28;01mimport\u001b[39;00m merge\n\u001b[1;32m> 10093\u001b[0m     \u001b[38;5;28;01mreturn\u001b[39;00m \u001b[43mmerge\u001b[49m\u001b[43m(\u001b[49m\n\u001b[0;32m  10094\u001b[0m \u001b[43m        \u001b[49m\u001b[38;5;28;43mself\u001b[39;49m\u001b[43m,\u001b[49m\n\u001b[0;32m  10095\u001b[0m \u001b[43m        \u001b[49m\u001b[43mright\u001b[49m\u001b[43m,\u001b[49m\n\u001b[0;32m  10096\u001b[0m \u001b[43m        \u001b[49m\u001b[43mhow\u001b[49m\u001b[38;5;241;43m=\u001b[39;49m\u001b[43mhow\u001b[49m\u001b[43m,\u001b[49m\n\u001b[0;32m  10097\u001b[0m \u001b[43m        \u001b[49m\u001b[43mon\u001b[49m\u001b[38;5;241;43m=\u001b[39;49m\u001b[43mon\u001b[49m\u001b[43m,\u001b[49m\n\u001b[0;32m  10098\u001b[0m \u001b[43m        \u001b[49m\u001b[43mleft_on\u001b[49m\u001b[38;5;241;43m=\u001b[39;49m\u001b[43mleft_on\u001b[49m\u001b[43m,\u001b[49m\n\u001b[0;32m  10099\u001b[0m \u001b[43m        \u001b[49m\u001b[43mright_on\u001b[49m\u001b[38;5;241;43m=\u001b[39;49m\u001b[43mright_on\u001b[49m\u001b[43m,\u001b[49m\n\u001b[0;32m  10100\u001b[0m \u001b[43m        \u001b[49m\u001b[43mleft_index\u001b[49m\u001b[38;5;241;43m=\u001b[39;49m\u001b[43mleft_index\u001b[49m\u001b[43m,\u001b[49m\n\u001b[0;32m  10101\u001b[0m \u001b[43m        \u001b[49m\u001b[43mright_index\u001b[49m\u001b[38;5;241;43m=\u001b[39;49m\u001b[43mright_index\u001b[49m\u001b[43m,\u001b[49m\n\u001b[0;32m  10102\u001b[0m \u001b[43m        \u001b[49m\u001b[43msort\u001b[49m\u001b[38;5;241;43m=\u001b[39;49m\u001b[43msort\u001b[49m\u001b[43m,\u001b[49m\n\u001b[0;32m  10103\u001b[0m \u001b[43m        \u001b[49m\u001b[43msuffixes\u001b[49m\u001b[38;5;241;43m=\u001b[39;49m\u001b[43msuffixes\u001b[49m\u001b[43m,\u001b[49m\n\u001b[0;32m  10104\u001b[0m \u001b[43m        \u001b[49m\u001b[43mcopy\u001b[49m\u001b[38;5;241;43m=\u001b[39;49m\u001b[43mcopy\u001b[49m\u001b[43m,\u001b[49m\n\u001b[0;32m  10105\u001b[0m \u001b[43m        \u001b[49m\u001b[43mindicator\u001b[49m\u001b[38;5;241;43m=\u001b[39;49m\u001b[43mindicator\u001b[49m\u001b[43m,\u001b[49m\n\u001b[0;32m  10106\u001b[0m \u001b[43m        \u001b[49m\u001b[43mvalidate\u001b[49m\u001b[38;5;241;43m=\u001b[39;49m\u001b[43mvalidate\u001b[49m\u001b[43m,\u001b[49m\n\u001b[0;32m  10107\u001b[0m \u001b[43m    \u001b[49m\u001b[43m)\u001b[49m\n",
      "File \u001b[1;32m~\\anaconda3\\lib\\site-packages\\pandas\\core\\reshape\\merge.py:110\u001b[0m, in \u001b[0;36mmerge\u001b[1;34m(left, right, how, on, left_on, right_on, left_index, right_index, sort, suffixes, copy, indicator, validate)\u001b[0m\n\u001b[0;32m     93\u001b[0m \u001b[38;5;129m@Substitution\u001b[39m(\u001b[38;5;124m\"\u001b[39m\u001b[38;5;130;01m\\n\u001b[39;00m\u001b[38;5;124mleft : DataFrame or named Series\u001b[39m\u001b[38;5;124m\"\u001b[39m)\n\u001b[0;32m     94\u001b[0m \u001b[38;5;129m@Appender\u001b[39m(_merge_doc, indents\u001b[38;5;241m=\u001b[39m\u001b[38;5;241m0\u001b[39m)\n\u001b[0;32m     95\u001b[0m \u001b[38;5;28;01mdef\u001b[39;00m \u001b[38;5;21mmerge\u001b[39m(\n\u001b[1;32m   (...)\u001b[0m\n\u001b[0;32m    108\u001b[0m     validate: \u001b[38;5;28mstr\u001b[39m \u001b[38;5;241m|\u001b[39m \u001b[38;5;28;01mNone\u001b[39;00m \u001b[38;5;241m=\u001b[39m \u001b[38;5;28;01mNone\u001b[39;00m,\n\u001b[0;32m    109\u001b[0m ) \u001b[38;5;241m-\u001b[39m\u001b[38;5;241m>\u001b[39m DataFrame:\n\u001b[1;32m--> 110\u001b[0m     op \u001b[38;5;241m=\u001b[39m \u001b[43m_MergeOperation\u001b[49m\u001b[43m(\u001b[49m\n\u001b[0;32m    111\u001b[0m \u001b[43m        \u001b[49m\u001b[43mleft\u001b[49m\u001b[43m,\u001b[49m\n\u001b[0;32m    112\u001b[0m \u001b[43m        \u001b[49m\u001b[43mright\u001b[49m\u001b[43m,\u001b[49m\n\u001b[0;32m    113\u001b[0m \u001b[43m        \u001b[49m\u001b[43mhow\u001b[49m\u001b[38;5;241;43m=\u001b[39;49m\u001b[43mhow\u001b[49m\u001b[43m,\u001b[49m\n\u001b[0;32m    114\u001b[0m \u001b[43m        \u001b[49m\u001b[43mon\u001b[49m\u001b[38;5;241;43m=\u001b[39;49m\u001b[43mon\u001b[49m\u001b[43m,\u001b[49m\n\u001b[0;32m    115\u001b[0m \u001b[43m        \u001b[49m\u001b[43mleft_on\u001b[49m\u001b[38;5;241;43m=\u001b[39;49m\u001b[43mleft_on\u001b[49m\u001b[43m,\u001b[49m\n\u001b[0;32m    116\u001b[0m \u001b[43m        \u001b[49m\u001b[43mright_on\u001b[49m\u001b[38;5;241;43m=\u001b[39;49m\u001b[43mright_on\u001b[49m\u001b[43m,\u001b[49m\n\u001b[0;32m    117\u001b[0m \u001b[43m        \u001b[49m\u001b[43mleft_index\u001b[49m\u001b[38;5;241;43m=\u001b[39;49m\u001b[43mleft_index\u001b[49m\u001b[43m,\u001b[49m\n\u001b[0;32m    118\u001b[0m \u001b[43m        \u001b[49m\u001b[43mright_index\u001b[49m\u001b[38;5;241;43m=\u001b[39;49m\u001b[43mright_index\u001b[49m\u001b[43m,\u001b[49m\n\u001b[0;32m    119\u001b[0m \u001b[43m        \u001b[49m\u001b[43msort\u001b[49m\u001b[38;5;241;43m=\u001b[39;49m\u001b[43msort\u001b[49m\u001b[43m,\u001b[49m\n\u001b[0;32m    120\u001b[0m \u001b[43m        \u001b[49m\u001b[43msuffixes\u001b[49m\u001b[38;5;241;43m=\u001b[39;49m\u001b[43msuffixes\u001b[49m\u001b[43m,\u001b[49m\n\u001b[0;32m    121\u001b[0m \u001b[43m        \u001b[49m\u001b[43mindicator\u001b[49m\u001b[38;5;241;43m=\u001b[39;49m\u001b[43mindicator\u001b[49m\u001b[43m,\u001b[49m\n\u001b[0;32m    122\u001b[0m \u001b[43m        \u001b[49m\u001b[43mvalidate\u001b[49m\u001b[38;5;241;43m=\u001b[39;49m\u001b[43mvalidate\u001b[49m\u001b[43m,\u001b[49m\n\u001b[0;32m    123\u001b[0m \u001b[43m    \u001b[49m\u001b[43m)\u001b[49m\n\u001b[0;32m    124\u001b[0m     \u001b[38;5;28;01mreturn\u001b[39;00m op\u001b[38;5;241m.\u001b[39mget_result(copy\u001b[38;5;241m=\u001b[39mcopy)\n",
      "File \u001b[1;32m~\\anaconda3\\lib\\site-packages\\pandas\\core\\reshape\\merge.py:703\u001b[0m, in \u001b[0;36m_MergeOperation.__init__\u001b[1;34m(self, left, right, how, on, left_on, right_on, axis, left_index, right_index, sort, suffixes, indicator, validate)\u001b[0m\n\u001b[0;32m    696\u001b[0m \u001b[38;5;28mself\u001b[39m\u001b[38;5;241m.\u001b[39m_cross \u001b[38;5;241m=\u001b[39m cross_col\n\u001b[0;32m    698\u001b[0m \u001b[38;5;66;03m# note this function has side effects\u001b[39;00m\n\u001b[0;32m    699\u001b[0m (\n\u001b[0;32m    700\u001b[0m     \u001b[38;5;28mself\u001b[39m\u001b[38;5;241m.\u001b[39mleft_join_keys,\n\u001b[0;32m    701\u001b[0m     \u001b[38;5;28mself\u001b[39m\u001b[38;5;241m.\u001b[39mright_join_keys,\n\u001b[0;32m    702\u001b[0m     \u001b[38;5;28mself\u001b[39m\u001b[38;5;241m.\u001b[39mjoin_names,\n\u001b[1;32m--> 703\u001b[0m ) \u001b[38;5;241m=\u001b[39m \u001b[38;5;28;43mself\u001b[39;49m\u001b[38;5;241;43m.\u001b[39;49m\u001b[43m_get_merge_keys\u001b[49m\u001b[43m(\u001b[49m\u001b[43m)\u001b[49m\n\u001b[0;32m    705\u001b[0m \u001b[38;5;66;03m# validate the merge keys dtypes. We may need to coerce\u001b[39;00m\n\u001b[0;32m    706\u001b[0m \u001b[38;5;66;03m# to avoid incompatible dtypes\u001b[39;00m\n\u001b[0;32m    707\u001b[0m \u001b[38;5;28mself\u001b[39m\u001b[38;5;241m.\u001b[39m_maybe_coerce_merge_keys()\n",
      "File \u001b[1;32m~\\anaconda3\\lib\\site-packages\\pandas\\core\\reshape\\merge.py:1179\u001b[0m, in \u001b[0;36m_MergeOperation._get_merge_keys\u001b[1;34m(self)\u001b[0m\n\u001b[0;32m   1175\u001b[0m \u001b[38;5;28;01mif\u001b[39;00m lk \u001b[38;5;129;01mis\u001b[39;00m \u001b[38;5;129;01mnot\u001b[39;00m \u001b[38;5;28;01mNone\u001b[39;00m:\n\u001b[0;32m   1176\u001b[0m     \u001b[38;5;66;03m# Then we're either Hashable or a wrong-length arraylike,\u001b[39;00m\n\u001b[0;32m   1177\u001b[0m     \u001b[38;5;66;03m#  the latter of which will raise\u001b[39;00m\n\u001b[0;32m   1178\u001b[0m     lk \u001b[38;5;241m=\u001b[39m cast(Hashable, lk)\n\u001b[1;32m-> 1179\u001b[0m     left_keys\u001b[38;5;241m.\u001b[39mappend(\u001b[43mleft\u001b[49m\u001b[38;5;241;43m.\u001b[39;49m\u001b[43m_get_label_or_level_values\u001b[49m\u001b[43m(\u001b[49m\u001b[43mlk\u001b[49m\u001b[43m)\u001b[49m)\n\u001b[0;32m   1180\u001b[0m     join_names\u001b[38;5;241m.\u001b[39mappend(lk)\n\u001b[0;32m   1181\u001b[0m \u001b[38;5;28;01melse\u001b[39;00m:\n\u001b[0;32m   1182\u001b[0m     \u001b[38;5;66;03m# work-around for merge_asof(left_index=True)\u001b[39;00m\n",
      "File \u001b[1;32m~\\anaconda3\\lib\\site-packages\\pandas\\core\\generic.py:1850\u001b[0m, in \u001b[0;36mNDFrame._get_label_or_level_values\u001b[1;34m(self, key, axis)\u001b[0m\n\u001b[0;32m   1844\u001b[0m     values \u001b[38;5;241m=\u001b[39m (\n\u001b[0;32m   1845\u001b[0m         \u001b[38;5;28mself\u001b[39m\u001b[38;5;241m.\u001b[39maxes[axis]\n\u001b[0;32m   1846\u001b[0m         \u001b[38;5;241m.\u001b[39mget_level_values(key)  \u001b[38;5;66;03m# type: ignore[assignment]\u001b[39;00m\n\u001b[0;32m   1847\u001b[0m         \u001b[38;5;241m.\u001b[39m_values\n\u001b[0;32m   1848\u001b[0m     )\n\u001b[0;32m   1849\u001b[0m \u001b[38;5;28;01melse\u001b[39;00m:\n\u001b[1;32m-> 1850\u001b[0m     \u001b[38;5;28;01mraise\u001b[39;00m \u001b[38;5;167;01mKeyError\u001b[39;00m(key)\n\u001b[0;32m   1852\u001b[0m \u001b[38;5;66;03m# Check for duplicates\u001b[39;00m\n\u001b[0;32m   1853\u001b[0m \u001b[38;5;28;01mif\u001b[39;00m values\u001b[38;5;241m.\u001b[39mndim \u001b[38;5;241m>\u001b[39m \u001b[38;5;241m1\u001b[39m:\n",
      "\u001b[1;31mKeyError\u001b[0m: 'team_id'"
     ]
    }
   ],
   "source": [
    "df_all_years = nfl.import_pbp_data(([2022]))\n",
    "\n",
    "df_players = nfl.import_rosters([2022])\n",
    "df_teams = nfl.import_team_desc()\n",
    "# df_fantasy_points\n",
    "\n",
    "df_all_years = df_all_years[df_all_years[\"season_type\"] == \"REG\"]\n",
    "\n",
    "df_all_years = df_all_years[df_all_years[\"two_point_attempt\"] == False]\n",
    "\n",
    "df_all_years = df_all_years[df_all_years[\"play_type\"] == \"defence\"]\n",
    "\n",
    "df_all_years = df_all_years.merge(df_teams[[\"team_id\", \"team_name\"]], left_on=\"team_id\",\n",
    "                        right_on=\"team_id\")\n",
    "# print(df_all_years[\"player_name\"].unique())\n",
    "df_all_years = df_all_years.merge(df_teams[[\"team_abbr\", \"team_color\"]], left_on=\"posteam\", right_on=\"team_abbr\")\n",
    "\n",
    "agg = (\n",
    "    df_all_years.groupby([\"team_name\", \"team_abbr\", \"team_color\", \"week\"], as_index=False).agg({\"sack\": \"sum\", \"touchdown\": \"sum\",\"interception\": \"sum\", \"points_against\": \"sum\"})\n",
    ")\n",
    "agg.to_csv(\"2022_defence\", index= False)\n",
    "print(agg[agg[\"team_name\"] == \"Denver\"])"
   ]
  },
  {
   "cell_type": "code",
   "execution_count": 11,
   "id": "e9ba43f8",
   "metadata": {},
   "outputs": [
    {
     "name": "stdout",
     "output_type": "stream",
     "text": [
      "2016 done.\n",
      "Downcasting floats.\n",
      "Empty DataFrame\n",
      "Columns: [player_name, pass_touchdown, passing_yards, sack, interception, Year]\n",
      "Index: []\n"
     ]
    }
   ],
   "source": [
    "df_all_years = nfl.import_pbp_data(([2016]))\n",
    "\n",
    "df_players = nfl.import_rosters([2016])\n",
    "df_teams = nfl.import_team_desc()\n",
    "# df_fantasy_points\n",
    "\n",
    "df_all_years = df_all_years[df_all_years[\"season_type\"] == \"REG\"]\n",
    "\n",
    "df_all_years = df_all_years[df_all_years[\"two_point_attempt\"] == False]\n",
    "\n",
    "df_all_years = df_all_years[df_all_years[\"play_type\"] == \"pass\"]\n",
    "\n",
    "df_all_years = df_all_years.merge(df_players[[\"player_id\", \"player_name\"]], left_on=\"passer_player_id\",\n",
    "                        right_on=\"player_id\")\n",
    "# print(df_all_years[\"player_name\"].unique())\n",
    "agg = (\n",
    "    df_all_years.groupby([\"player_name\"], as_index=False).agg({\"pass_touchdown\": \"sum\", \"passing_yards\": \"sum\", \"pass_touchdown\": \"sum\", \"sack\": \"sum\", \"interception\": \"sum\"})\n",
    ")\n",
    "agg[\"Year\"] = 2016\n",
    "agg.to_csv(\"2016_QB_data_wYear\", index= False)\n",
    "print(agg[agg[\"player_name\"] == \"Josh Allen\"])"
   ]
  },
  {
   "cell_type": "code",
   "execution_count": null,
   "id": "1c5c5aae",
   "metadata": {},
   "outputs": [],
   "source": []
  }
 ],
 "metadata": {
  "kernelspec": {
   "display_name": "Python 3 (ipykernel)",
   "language": "python",
   "name": "python3"
  },
  "language_info": {
   "codemirror_mode": {
    "name": "ipython",
    "version": 3
   },
   "file_extension": ".py",
   "mimetype": "text/x-python",
   "name": "python",
   "nbconvert_exporter": "python",
   "pygments_lexer": "ipython3",
   "version": "3.9.12"
  }
 },
 "nbformat": 4,
 "nbformat_minor": 5
}
